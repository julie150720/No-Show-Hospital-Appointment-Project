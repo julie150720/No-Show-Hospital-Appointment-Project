{
 "cells": [
  {
   "cell_type": "markdown",
   "metadata": {},
   "source": [
    "#                       MEDICAL APPOINTMENTS NO-SHOW"
   ]
  },
  {
   "cell_type": "markdown",
   "metadata": {},
   "source": [
    " \n",
    "In this project, we will investigate the No-show appointments dataset. This original dataset collects information from 110.527 medical appointments in Brazil and is focused on the question of why patients do not show up for their appointment. This is a Kaggle competition, which can be found from here: https://www.kaggle.com/datasets/joniarroba/noshowappointments"
   ]
  },
  {
   "cell_type": "code",
   "execution_count": 1,
   "metadata": {
    "collapsed": true
   },
   "outputs": [],
   "source": [
    "import sys\n",
    "import pickle\n",
    "\n",
    "import pandas as pd\n",
    "import seaborn as sns\n",
    "import matplotlib.pyplot as plt\n",
    "import numpy as np\n",
    "from IPython.display import display, Math\n",
    "\n",
    "%load_ext autoreload\n",
    "%autoreload 2\n",
    "\n",
    "%matplotlib inline\n",
    "\n",
    "import matplotlib as mpl\n",
    "mpl.rc(\"savefig\", dpi=100) # Adjust for higher-resolution figures"
   ]
  },
  {
   "cell_type": "markdown",
   "metadata": {},
   "source": [
    "## DATA COLLECTION"
   ]
  },
  {
   "cell_type": "markdown",
   "metadata": {},
   "source": [
    "**Loading the Dataset**\n",
    "\n",
    "As the dataset is more than 10.2MB which is over the limit, so I deleted randomly the last 6881 data. Totally we have 103,639 medical appointments in this dataset (less than 10MB as required). "
   ]
  },
  {
   "cell_type": "code",
   "execution_count": 2,
   "metadata": {
    "collapsed": true
   },
   "outputs": [],
   "source": [
    "df = pd.read_csv('missed_appointments.csv')"
   ]
  },
  {
   "cell_type": "markdown",
   "metadata": {},
   "source": [
    "### Data Dictionary "
   ]
  },
  {
   "cell_type": "markdown",
   "metadata": {},
   "source": [
    "There are 14 variables in this dataset. \n",
    "\n",
    "01 - PatientId: Identification of a patient\n",
    "\n",
    "02 - AppointmentID: Identification of each appointment\n",
    "\n",
    "03 - Gender (Male or Female): Female is the greater proportion, woman takes way more care of they health in comparison to man.\n",
    "\n",
    "04 - DataMarcacaoConsulta: The day of the actuall appointment, when they have to visit the doctor.\n",
    "\n",
    "05 - DataAgendamento: The day someone called or registered the appointment, this is before appointment of course.\n",
    "\n",
    "06 - Age: How old is the patient.\n",
    "\n",
    "07 - Neighbourhood: Where the appointment takes place.\n",
    "\n",
    "08 - Scholarship: True of False . Observation, this is a broad topic, consider reading this article https://en.wikipedia.org/wiki/Bolsa_Fam%C3%ADlia\n",
    "\n",
    "09 - Hipertension: True or False\n",
    "\n",
    "10 - Diabetes: True or False\n",
    "\n",
    "11 - Alcoholism: True or False\n",
    "\n",
    "12 - Handcap: True or False\n",
    "\n",
    "13 - SMS_received: 1 or more messages sent to the patient.\n",
    "\n",
    "14 - No-show: True or False."
   ]
  },
  {
   "cell_type": "markdown",
   "metadata": {},
   "source": [
    "### Data Cleaning"
   ]
  },
  {
   "cell_type": "code",
   "execution_count": 3,
   "metadata": {},
   "outputs": [
    {
     "data": {
      "text/plain": [
       "PatientId         float64\n",
       "AppointmentID       int64\n",
       "Gender             object\n",
       "ScheduledDay       object\n",
       "AppointmentDay     object\n",
       "Age                 int64\n",
       "Neighbourhood      object\n",
       "Scholarship         int64\n",
       "Hipertension        int64\n",
       "Diabetes            int64\n",
       "Alcoholism          int64\n",
       "Handcap             int64\n",
       "SMS_received        int64\n",
       "No-show            object\n",
       "dtype: object"
      ]
     },
     "execution_count": 3,
     "metadata": {},
     "output_type": "execute_result"
    }
   ],
   "source": [
    "# Check the types of 14 variables\n",
    "df.dtypes"
   ]
  },
  {
   "cell_type": "markdown",
   "metadata": {},
   "source": [
    "Convert PatientID from string to integer for further analysis"
   ]
  },
  {
   "cell_type": "code",
   "execution_count": 4,
   "metadata": {
    "collapsed": true
   },
   "outputs": [],
   "source": [
    "df['PatientId']=df['PatientId'].astype(int)"
   ]
  },
  {
   "cell_type": "markdown",
   "metadata": {},
   "source": [
    "#### Cleaning Datetime Variables for further analysis"
   ]
  },
  {
   "cell_type": "markdown",
   "metadata": {},
   "source": [
    "Convert ScheduleDay and AppointmentDay from String to Datetime"
   ]
  },
  {
   "cell_type": "code",
   "execution_count": 5,
   "metadata": {
    "collapsed": true
   },
   "outputs": [],
   "source": [
    "df['AppointmentDay'] = df['AppointmentDay'].str[:10]\n",
    "df['ScheduledDay'] = df['ScheduledDay'].str[:10]\n",
    "import datetime as datetime\n",
    "df['AppointmentDay'] = pd.to_datetime(df['AppointmentDay'])\n",
    "df['ScheduledDay'] = pd.to_datetime(df['ScheduledDay'])"
   ]
  },
  {
   "cell_type": "markdown",
   "metadata": {},
   "source": [
    "Create new column for \"date of week\" that the patient showed up for appointment. \n",
    "And create a new column for \"Days\", which calculate the number of days from Scheduled Day to the Appointment Day"
   ]
  },
  {
   "cell_type": "code",
   "execution_count": 6,
   "metadata": {
    "collapsed": true
   },
   "outputs": [],
   "source": [
    "#Create new column for \"date of week\" that the patient showed up for appointment.\n",
    "df['Day_of_Week'] = pd.to_datetime(df['AppointmentDay']).dt.day_name()\n",
    "\n",
    "#Calculate number of days from ScheduledDay to AppointmentDay:\n",
    "df['Days']= df['AppointmentDay'] - df['ScheduledDay']"
   ]
  },
  {
   "cell_type": "markdown",
   "metadata": {},
   "source": [
    "Remove any Days smaller than 0 from the Dataset"
   ]
  },
  {
   "cell_type": "code",
   "execution_count": 7,
   "metadata": {
    "collapsed": true
   },
   "outputs": [],
   "source": [
    "df = df[df['Days'] >= '0 days']"
   ]
  },
  {
   "cell_type": "markdown",
   "metadata": {},
   "source": [
    "Extract the integer number of days from strings in Days Column. For example, extract \"1\" from \"1 days\". "
   ]
  },
  {
   "cell_type": "code",
   "execution_count": 8,
   "metadata": {
    "collapsed": true
   },
   "outputs": [],
   "source": [
    "df['Days']=df['Days'].astype(str)\n",
    "df['Days']=df['Days'].str.extract('(\\d+)').astype(int)"
   ]
  },
  {
   "cell_type": "markdown",
   "metadata": {},
   "source": [
    "Extract the Month of the Appointment Date"
   ]
  },
  {
   "cell_type": "code",
   "execution_count": 9,
   "metadata": {
    "collapsed": true
   },
   "outputs": [],
   "source": [
    "df['Month'] = pd.to_datetime(df['AppointmentDay']).dt.month"
   ]
  },
  {
   "cell_type": "markdown",
   "metadata": {},
   "source": [
    "#### Cleaning other variables "
   ]
  },
  {
   "cell_type": "markdown",
   "metadata": {},
   "source": [
    "Check whether the Age of patient is smaller than 0 and remove those data"
   ]
  },
  {
   "cell_type": "code",
   "execution_count": 10,
   "metadata": {},
   "outputs": [
    {
     "data": {
      "text/html": [
       "<div>\n",
       "<style scoped>\n",
       "    .dataframe tbody tr th:only-of-type {\n",
       "        vertical-align: middle;\n",
       "    }\n",
       "\n",
       "    .dataframe tbody tr th {\n",
       "        vertical-align: top;\n",
       "    }\n",
       "\n",
       "    .dataframe thead th {\n",
       "        text-align: right;\n",
       "    }\n",
       "</style>\n",
       "<table border=\"1\" class=\"dataframe\">\n",
       "  <thead>\n",
       "    <tr style=\"text-align: right;\">\n",
       "      <th></th>\n",
       "      <th>PatientId</th>\n",
       "      <th>AppointmentID</th>\n",
       "      <th>Gender</th>\n",
       "      <th>ScheduledDay</th>\n",
       "      <th>AppointmentDay</th>\n",
       "      <th>Age</th>\n",
       "      <th>Neighbourhood</th>\n",
       "      <th>Scholarship</th>\n",
       "      <th>Hipertension</th>\n",
       "      <th>Diabetes</th>\n",
       "      <th>Alcoholism</th>\n",
       "      <th>Handcap</th>\n",
       "      <th>SMS_received</th>\n",
       "      <th>No-show</th>\n",
       "      <th>Day_of_Week</th>\n",
       "      <th>Days</th>\n",
       "      <th>Month</th>\n",
       "    </tr>\n",
       "  </thead>\n",
       "  <tbody>\n",
       "    <tr>\n",
       "      <th>99832</th>\n",
       "      <td>465943000000000</td>\n",
       "      <td>5775010</td>\n",
       "      <td>F</td>\n",
       "      <td>2016-06-06</td>\n",
       "      <td>2016-06-06</td>\n",
       "      <td>-1</td>\n",
       "      <td>ROMÃO</td>\n",
       "      <td>0</td>\n",
       "      <td>0</td>\n",
       "      <td>0</td>\n",
       "      <td>0</td>\n",
       "      <td>0</td>\n",
       "      <td>0</td>\n",
       "      <td>No</td>\n",
       "      <td>Monday</td>\n",
       "      <td>0</td>\n",
       "      <td>6</td>\n",
       "    </tr>\n",
       "  </tbody>\n",
       "</table>\n",
       "</div>"
      ],
      "text/plain": [
       "             PatientId  AppointmentID Gender ScheduledDay AppointmentDay  Age  \\\n",
       "99832  465943000000000        5775010      F   2016-06-06     2016-06-06   -1   \n",
       "\n",
       "      Neighbourhood  Scholarship  Hipertension  Diabetes  Alcoholism  Handcap  \\\n",
       "99832         ROMÃO            0             0         0           0        0   \n",
       "\n",
       "       SMS_received No-show Day_of_Week  Days  Month  \n",
       "99832             0      No      Monday     0      6  "
      ]
     },
     "execution_count": 10,
     "metadata": {},
     "output_type": "execute_result"
    }
   ],
   "source": [
    "df[df['Age'] <0]"
   ]
  },
  {
   "cell_type": "code",
   "execution_count": 11,
   "metadata": {
    "collapsed": true
   },
   "outputs": [],
   "source": [
    "#Remove the appointmentID 5775010 from the dataset, which has age =-1\n",
    "df = df[df['AppointmentID']!=5775010]"
   ]
  },
  {
   "cell_type": "code",
   "execution_count": 12,
   "metadata": {},
   "outputs": [
    {
     "data": {
      "text/html": [
       "<div>\n",
       "<style scoped>\n",
       "    .dataframe tbody tr th:only-of-type {\n",
       "        vertical-align: middle;\n",
       "    }\n",
       "\n",
       "    .dataframe tbody tr th {\n",
       "        vertical-align: top;\n",
       "    }\n",
       "\n",
       "    .dataframe thead th {\n",
       "        text-align: right;\n",
       "    }\n",
       "</style>\n",
       "<table border=\"1\" class=\"dataframe\">\n",
       "  <thead>\n",
       "    <tr style=\"text-align: right;\">\n",
       "      <th></th>\n",
       "      <th>PatientId</th>\n",
       "      <th>AppointmentID</th>\n",
       "      <th>Gender</th>\n",
       "      <th>ScheduledDay</th>\n",
       "      <th>AppointmentDay</th>\n",
       "      <th>Age</th>\n",
       "      <th>Neighbourhood</th>\n",
       "      <th>Scholarship</th>\n",
       "      <th>Hipertension</th>\n",
       "      <th>Diabetes</th>\n",
       "      <th>Alcoholism</th>\n",
       "      <th>Handcap</th>\n",
       "      <th>SMS_received</th>\n",
       "      <th>No-show</th>\n",
       "      <th>Day_of_Week</th>\n",
       "      <th>Days</th>\n",
       "      <th>Month</th>\n",
       "    </tr>\n",
       "  </thead>\n",
       "  <tbody>\n",
       "    <tr>\n",
       "      <th># of missing values ('NaNs')</th>\n",
       "      <td>0</td>\n",
       "      <td>0</td>\n",
       "      <td>0</td>\n",
       "      <td>0</td>\n",
       "      <td>0</td>\n",
       "      <td>0</td>\n",
       "      <td>0</td>\n",
       "      <td>0</td>\n",
       "      <td>0</td>\n",
       "      <td>0</td>\n",
       "      <td>0</td>\n",
       "      <td>0</td>\n",
       "      <td>0</td>\n",
       "      <td>0</td>\n",
       "      <td>0</td>\n",
       "      <td>0</td>\n",
       "      <td>0</td>\n",
       "    </tr>\n",
       "  </tbody>\n",
       "</table>\n",
       "</div>"
      ],
      "text/plain": [
       "                              PatientId  AppointmentID  Gender  ScheduledDay  \\\n",
       "# of missing values ('NaNs')          0              0       0             0   \n",
       "\n",
       "                              AppointmentDay  Age  Neighbourhood  Scholarship  \\\n",
       "# of missing values ('NaNs')               0    0              0            0   \n",
       "\n",
       "                              Hipertension  Diabetes  Alcoholism  Handcap  \\\n",
       "# of missing values ('NaNs')             0         0           0        0   \n",
       "\n",
       "                              SMS_received  No-show  Day_of_Week  Days  Month  \n",
       "# of missing values ('NaNs')             0        0            0     0      0  "
      ]
     },
     "execution_count": 12,
     "metadata": {},
     "output_type": "execute_result"
    }
   ],
   "source": [
    "#Check if there is any missing data\n",
    "def count_missing_by_col(df):\n",
    "    return df.isna().sum().to_frame(name=\"# of missing values ('NaNs')\").T\n",
    "\n",
    "count_missing_by_col(df)\n",
    "\n",
    "#Alternatives: df.isnull().sum()"
   ]
  },
  {
   "cell_type": "code",
   "execution_count": 13,
   "metadata": {},
   "outputs": [
    {
     "data": {
      "text/plain": [
       "0"
      ]
     },
     "execution_count": 13,
     "metadata": {},
     "output_type": "execute_result"
    }
   ],
   "source": [
    "# Check if there is any duplicate data\n",
    "df.duplicated().sum()"
   ]
  },
  {
   "cell_type": "code",
   "execution_count": 14,
   "metadata": {},
   "outputs": [
    {
     "data": {
      "text/plain": [
       "0"
      ]
     },
     "execution_count": 14,
     "metadata": {},
     "output_type": "execute_result"
    }
   ],
   "source": [
    "#Check if there is any duplicated Appointment ID\n",
    "df['AppointmentID'].duplicated().sum()"
   ]
  },
  {
   "cell_type": "code",
   "execution_count": 15,
   "metadata": {},
   "outputs": [
    {
     "data": {
      "text/plain": [
       "PatientId          59665\n",
       "AppointmentID     103639\n",
       "Gender                 2\n",
       "ScheduledDay         111\n",
       "AppointmentDay        27\n",
       "Age                  103\n",
       "Neighbourhood         81\n",
       "Scholarship            2\n",
       "Hipertension           2\n",
       "Diabetes               2\n",
       "Alcoholism             2\n",
       "Handcap                5\n",
       "SMS_received           2\n",
       "No-show                2\n",
       "Day_of_Week            6\n",
       "Days                 129\n",
       "Month                  3\n",
       "dtype: int64"
      ]
     },
     "execution_count": 15,
     "metadata": {},
     "output_type": "execute_result"
    }
   ],
   "source": [
    "#Unique values for each column\n",
    "df.nunique()"
   ]
  },
  {
   "cell_type": "markdown",
   "metadata": {},
   "source": [
    "Create Age Group (under 17 years old, from 17 to 24, from 25 to 44, from 45 to 64, and over 65)"
   ]
  },
  {
   "cell_type": "code",
   "execution_count": 16,
   "metadata": {
    "collapsed": true
   },
   "outputs": [],
   "source": [
    "bin_edges = [0,17,24,44,64,115]\n",
    "bin_names = ['under_17','17_to_24','25_to_44','45_to_64','65_and_over']\n",
    "df['age_group'] = pd.cut(df['Age'],bin_edges,labels=bin_names)"
   ]
  },
  {
   "cell_type": "markdown",
   "metadata": {},
   "source": [
    "Create Waiting Period (1 day, 2-14 days, 15-30 days, 31-60 days, 61-90 days, and over 90 days)"
   ]
  },
  {
   "cell_type": "code",
   "execution_count": 17,
   "metadata": {
    "collapsed": true
   },
   "outputs": [],
   "source": [
    "day_edges = [-1,1, 14, 30,60,90,179]\n",
    "day_names = ['0_1days', '2_to_14days','15_to_30days','31_to_60days','61_to_90days','over_90days']\n",
    "df['Waiting_Period'] = pd.cut(df['Days'],day_edges,labels=day_names)"
   ]
  },
  {
   "cell_type": "code",
   "execution_count": 18,
   "metadata": {
    "collapsed": true
   },
   "outputs": [],
   "source": [
    "# Calculate the number of chronic diseases:\n",
    "df['Disease'] = df['Hipertension'] + df['Diabetes']"
   ]
  },
  {
   "cell_type": "markdown",
   "metadata": {},
   "source": [
    "Now, we need to create a new variable \"New_patient\" to check whether the patient is a new or existing one"
   ]
  },
  {
   "cell_type": "code",
   "execution_count": 19,
   "metadata": {
    "collapsed": true
   },
   "outputs": [],
   "source": [
    "df_copy = (df.groupby(['PatientId']).size().sort_values(ascending=False).reset_index(name='count'))\n",
    "df_copy['New_patient'] = 0\n",
    "df_copy['New_patient'] = np.where(df_copy['count'] > 1, 0, 1)\n",
    "del df_copy ['count']\n",
    "\n",
    "#    Merge the df_copy with the df to get a combination of data\n",
    "\n",
    "result = pd.merge(df, df_copy, on=\"PatientId\", how=\"left\")"
   ]
  },
  {
   "cell_type": "markdown",
   "metadata": {},
   "source": [
    "Now, lets create another variable - Num_Missed: Number of Missed Appointments for each patient"
   ]
  },
  {
   "cell_type": "code",
   "execution_count": 20,
   "metadata": {
    "collapsed": true
   },
   "outputs": [],
   "source": [
    "result['Missed_Appointments_Yes'] = result['No-show'].apply(lambda x: 1 if x == \"Yes\" else 0)\n",
    "\n",
    "#Number of Appointments missed by the same patient:\n",
    "result['Num_Missed'] = result.groupby('PatientId')['Missed_Appointments_Yes'].apply(lambda x: x.cumsum())"
   ]
  },
  {
   "cell_type": "markdown",
   "metadata": {},
   "source": [
    "**Let's take a quick look at what the data looks like**"
   ]
  },
  {
   "cell_type": "code",
   "execution_count": 21,
   "metadata": {},
   "outputs": [
    {
     "data": {
      "text/html": [
       "<div>\n",
       "<style scoped>\n",
       "    .dataframe tbody tr th:only-of-type {\n",
       "        vertical-align: middle;\n",
       "    }\n",
       "\n",
       "    .dataframe tbody tr th {\n",
       "        vertical-align: top;\n",
       "    }\n",
       "\n",
       "    .dataframe thead th {\n",
       "        text-align: right;\n",
       "    }\n",
       "</style>\n",
       "<table border=\"1\" class=\"dataframe\">\n",
       "  <thead>\n",
       "    <tr style=\"text-align: right;\">\n",
       "      <th></th>\n",
       "      <th>PatientId</th>\n",
       "      <th>AppointmentID</th>\n",
       "      <th>Gender</th>\n",
       "      <th>ScheduledDay</th>\n",
       "      <th>AppointmentDay</th>\n",
       "      <th>Age</th>\n",
       "      <th>Neighbourhood</th>\n",
       "      <th>Scholarship</th>\n",
       "      <th>Hipertension</th>\n",
       "      <th>Diabetes</th>\n",
       "      <th>...</th>\n",
       "      <th>No-show</th>\n",
       "      <th>Day_of_Week</th>\n",
       "      <th>Days</th>\n",
       "      <th>Month</th>\n",
       "      <th>age_group</th>\n",
       "      <th>Waiting_Period</th>\n",
       "      <th>Disease</th>\n",
       "      <th>New_patient</th>\n",
       "      <th>Missed_Appointments_Yes</th>\n",
       "      <th>Num_Missed</th>\n",
       "    </tr>\n",
       "  </thead>\n",
       "  <tbody>\n",
       "    <tr>\n",
       "      <th>0</th>\n",
       "      <td>29872500000000</td>\n",
       "      <td>5642903</td>\n",
       "      <td>F</td>\n",
       "      <td>2016-04-29</td>\n",
       "      <td>2016-04-29</td>\n",
       "      <td>62</td>\n",
       "      <td>JARDIM DA PENHA</td>\n",
       "      <td>0</td>\n",
       "      <td>1</td>\n",
       "      <td>0</td>\n",
       "      <td>...</td>\n",
       "      <td>No</td>\n",
       "      <td>Friday</td>\n",
       "      <td>0</td>\n",
       "      <td>4</td>\n",
       "      <td>45_to_64</td>\n",
       "      <td>0_1days</td>\n",
       "      <td>1</td>\n",
       "      <td>0</td>\n",
       "      <td>0</td>\n",
       "      <td>0</td>\n",
       "    </tr>\n",
       "    <tr>\n",
       "      <th>1</th>\n",
       "      <td>558998000000000</td>\n",
       "      <td>5642503</td>\n",
       "      <td>M</td>\n",
       "      <td>2016-04-29</td>\n",
       "      <td>2016-04-29</td>\n",
       "      <td>56</td>\n",
       "      <td>JARDIM DA PENHA</td>\n",
       "      <td>0</td>\n",
       "      <td>0</td>\n",
       "      <td>0</td>\n",
       "      <td>...</td>\n",
       "      <td>No</td>\n",
       "      <td>Friday</td>\n",
       "      <td>0</td>\n",
       "      <td>4</td>\n",
       "      <td>45_to_64</td>\n",
       "      <td>0_1days</td>\n",
       "      <td>0</td>\n",
       "      <td>0</td>\n",
       "      <td>0</td>\n",
       "      <td>0</td>\n",
       "    </tr>\n",
       "    <tr>\n",
       "      <th>2</th>\n",
       "      <td>4262960000000</td>\n",
       "      <td>5642549</td>\n",
       "      <td>F</td>\n",
       "      <td>2016-04-29</td>\n",
       "      <td>2016-04-29</td>\n",
       "      <td>62</td>\n",
       "      <td>MATA DA PRAIA</td>\n",
       "      <td>0</td>\n",
       "      <td>0</td>\n",
       "      <td>0</td>\n",
       "      <td>...</td>\n",
       "      <td>No</td>\n",
       "      <td>Friday</td>\n",
       "      <td>0</td>\n",
       "      <td>4</td>\n",
       "      <td>45_to_64</td>\n",
       "      <td>0_1days</td>\n",
       "      <td>0</td>\n",
       "      <td>0</td>\n",
       "      <td>0</td>\n",
       "      <td>0</td>\n",
       "    </tr>\n",
       "    <tr>\n",
       "      <th>3</th>\n",
       "      <td>867951000000</td>\n",
       "      <td>5642828</td>\n",
       "      <td>F</td>\n",
       "      <td>2016-04-29</td>\n",
       "      <td>2016-04-29</td>\n",
       "      <td>8</td>\n",
       "      <td>PONTAL DE CAMBURI</td>\n",
       "      <td>0</td>\n",
       "      <td>0</td>\n",
       "      <td>0</td>\n",
       "      <td>...</td>\n",
       "      <td>No</td>\n",
       "      <td>Friday</td>\n",
       "      <td>0</td>\n",
       "      <td>4</td>\n",
       "      <td>under_17</td>\n",
       "      <td>0_1days</td>\n",
       "      <td>0</td>\n",
       "      <td>0</td>\n",
       "      <td>0</td>\n",
       "      <td>0</td>\n",
       "    </tr>\n",
       "    <tr>\n",
       "      <th>4</th>\n",
       "      <td>8841190000000</td>\n",
       "      <td>5642494</td>\n",
       "      <td>F</td>\n",
       "      <td>2016-04-29</td>\n",
       "      <td>2016-04-29</td>\n",
       "      <td>56</td>\n",
       "      <td>JARDIM DA PENHA</td>\n",
       "      <td>0</td>\n",
       "      <td>1</td>\n",
       "      <td>1</td>\n",
       "      <td>...</td>\n",
       "      <td>No</td>\n",
       "      <td>Friday</td>\n",
       "      <td>0</td>\n",
       "      <td>4</td>\n",
       "      <td>45_to_64</td>\n",
       "      <td>0_1days</td>\n",
       "      <td>2</td>\n",
       "      <td>1</td>\n",
       "      <td>0</td>\n",
       "      <td>0</td>\n",
       "    </tr>\n",
       "  </tbody>\n",
       "</table>\n",
       "<p>5 rows × 23 columns</p>\n",
       "</div>"
      ],
      "text/plain": [
       "         PatientId  AppointmentID Gender ScheduledDay AppointmentDay  Age  \\\n",
       "0   29872500000000        5642903      F   2016-04-29     2016-04-29   62   \n",
       "1  558998000000000        5642503      M   2016-04-29     2016-04-29   56   \n",
       "2    4262960000000        5642549      F   2016-04-29     2016-04-29   62   \n",
       "3     867951000000        5642828      F   2016-04-29     2016-04-29    8   \n",
       "4    8841190000000        5642494      F   2016-04-29     2016-04-29   56   \n",
       "\n",
       "       Neighbourhood  Scholarship  Hipertension  Diabetes  ...  No-show  \\\n",
       "0    JARDIM DA PENHA            0             1         0  ...       No   \n",
       "1    JARDIM DA PENHA            0             0         0  ...       No   \n",
       "2      MATA DA PRAIA            0             0         0  ...       No   \n",
       "3  PONTAL DE CAMBURI            0             0         0  ...       No   \n",
       "4    JARDIM DA PENHA            0             1         1  ...       No   \n",
       "\n",
       "   Day_of_Week  Days Month age_group  Waiting_Period  Disease New_patient  \\\n",
       "0       Friday     0     4  45_to_64         0_1days        1           0   \n",
       "1       Friday     0     4  45_to_64         0_1days        0           0   \n",
       "2       Friday     0     4  45_to_64         0_1days        0           0   \n",
       "3       Friday     0     4  under_17         0_1days        0           0   \n",
       "4       Friday     0     4  45_to_64         0_1days        2           1   \n",
       "\n",
       "  Missed_Appointments_Yes  Num_Missed  \n",
       "0                       0           0  \n",
       "1                       0           0  \n",
       "2                       0           0  \n",
       "3                       0           0  \n",
       "4                       0           0  \n",
       "\n",
       "[5 rows x 23 columns]"
      ]
     },
     "execution_count": 21,
     "metadata": {},
     "output_type": "execute_result"
    }
   ],
   "source": [
    "result.head()"
   ]
  },
  {
   "cell_type": "markdown",
   "metadata": {},
   "source": [
    "Let's look at the descriptive analysis of the dataset. "
   ]
  },
  {
   "cell_type": "code",
   "execution_count": 22,
   "metadata": {},
   "outputs": [
    {
     "data": {
      "text/html": [
       "<div>\n",
       "<style scoped>\n",
       "    .dataframe tbody tr th:only-of-type {\n",
       "        vertical-align: middle;\n",
       "    }\n",
       "\n",
       "    .dataframe tbody tr th {\n",
       "        vertical-align: top;\n",
       "    }\n",
       "\n",
       "    .dataframe thead th {\n",
       "        text-align: right;\n",
       "    }\n",
       "</style>\n",
       "<table border=\"1\" class=\"dataframe\">\n",
       "  <thead>\n",
       "    <tr style=\"text-align: right;\">\n",
       "      <th></th>\n",
       "      <th>PatientId</th>\n",
       "      <th>AppointmentID</th>\n",
       "      <th>Age</th>\n",
       "      <th>Scholarship</th>\n",
       "      <th>Hipertension</th>\n",
       "      <th>Diabetes</th>\n",
       "      <th>Alcoholism</th>\n",
       "      <th>Handcap</th>\n",
       "      <th>SMS_received</th>\n",
       "      <th>Days</th>\n",
       "      <th>Month</th>\n",
       "      <th>Disease</th>\n",
       "      <th>New_patient</th>\n",
       "      <th>Missed_Appointments_Yes</th>\n",
       "      <th>Num_Missed</th>\n",
       "    </tr>\n",
       "  </thead>\n",
       "  <tbody>\n",
       "    <tr>\n",
       "      <th>count</th>\n",
       "      <td>1.036390e+05</td>\n",
       "      <td>1.036390e+05</td>\n",
       "      <td>103639.000000</td>\n",
       "      <td>103639.000000</td>\n",
       "      <td>103639.000000</td>\n",
       "      <td>103639.000000</td>\n",
       "      <td>103639.000000</td>\n",
       "      <td>103639.000000</td>\n",
       "      <td>103639.000000</td>\n",
       "      <td>103639.000000</td>\n",
       "      <td>103639.000000</td>\n",
       "      <td>103639.000000</td>\n",
       "      <td>103639.000000</td>\n",
       "      <td>103639.000000</td>\n",
       "      <td>103639.000000</td>\n",
       "    </tr>\n",
       "    <tr>\n",
       "      <th>mean</th>\n",
       "      <td>1.473079e+14</td>\n",
       "      <td>5.671069e+06</td>\n",
       "      <td>37.013605</td>\n",
       "      <td>0.099104</td>\n",
       "      <td>0.197956</td>\n",
       "      <td>0.072280</td>\n",
       "      <td>0.029101</td>\n",
       "      <td>0.022135</td>\n",
       "      <td>0.313801</td>\n",
       "      <td>10.249867</td>\n",
       "      <td>5.157595</td>\n",
       "      <td>0.270236</td>\n",
       "      <td>0.354780</td>\n",
       "      <td>0.202221</td>\n",
       "      <td>0.403449</td>\n",
       "    </tr>\n",
       "    <tr>\n",
       "      <th>std</th>\n",
       "      <td>2.557873e+14</td>\n",
       "      <td>7.041359e+04</td>\n",
       "      <td>23.175891</td>\n",
       "      <td>0.298803</td>\n",
       "      <td>0.398461</td>\n",
       "      <td>0.258952</td>\n",
       "      <td>0.168091</td>\n",
       "      <td>0.160605</td>\n",
       "      <td>0.464039</td>\n",
       "      <td>15.355699</td>\n",
       "      <td>0.441802</td>\n",
       "      <td>0.561666</td>\n",
       "      <td>0.478449</td>\n",
       "      <td>0.401658</td>\n",
       "      <td>0.795229</td>\n",
       "    </tr>\n",
       "    <tr>\n",
       "      <th>min</th>\n",
       "      <td>3.920000e+04</td>\n",
       "      <td>5.030230e+06</td>\n",
       "      <td>0.000000</td>\n",
       "      <td>0.000000</td>\n",
       "      <td>0.000000</td>\n",
       "      <td>0.000000</td>\n",
       "      <td>0.000000</td>\n",
       "      <td>0.000000</td>\n",
       "      <td>0.000000</td>\n",
       "      <td>0.000000</td>\n",
       "      <td>4.000000</td>\n",
       "      <td>0.000000</td>\n",
       "      <td>0.000000</td>\n",
       "      <td>0.000000</td>\n",
       "      <td>0.000000</td>\n",
       "    </tr>\n",
       "    <tr>\n",
       "      <th>25%</th>\n",
       "      <td>4.175520e+12</td>\n",
       "      <td>5.638462e+06</td>\n",
       "      <td>18.000000</td>\n",
       "      <td>0.000000</td>\n",
       "      <td>0.000000</td>\n",
       "      <td>0.000000</td>\n",
       "      <td>0.000000</td>\n",
       "      <td>0.000000</td>\n",
       "      <td>0.000000</td>\n",
       "      <td>0.000000</td>\n",
       "      <td>5.000000</td>\n",
       "      <td>0.000000</td>\n",
       "      <td>0.000000</td>\n",
       "      <td>0.000000</td>\n",
       "      <td>0.000000</td>\n",
       "    </tr>\n",
       "    <tr>\n",
       "      <th>50%</th>\n",
       "      <td>3.174220e+13</td>\n",
       "      <td>5.677045e+06</td>\n",
       "      <td>37.000000</td>\n",
       "      <td>0.000000</td>\n",
       "      <td>0.000000</td>\n",
       "      <td>0.000000</td>\n",
       "      <td>0.000000</td>\n",
       "      <td>0.000000</td>\n",
       "      <td>0.000000</td>\n",
       "      <td>4.000000</td>\n",
       "      <td>5.000000</td>\n",
       "      <td>0.000000</td>\n",
       "      <td>0.000000</td>\n",
       "      <td>0.000000</td>\n",
       "      <td>0.000000</td>\n",
       "    </tr>\n",
       "    <tr>\n",
       "      <th>75%</th>\n",
       "      <td>9.439380e+13</td>\n",
       "      <td>5.718894e+06</td>\n",
       "      <td>55.000000</td>\n",
       "      <td>0.000000</td>\n",
       "      <td>0.000000</td>\n",
       "      <td>0.000000</td>\n",
       "      <td>0.000000</td>\n",
       "      <td>0.000000</td>\n",
       "      <td>1.000000</td>\n",
       "      <td>15.000000</td>\n",
       "      <td>5.000000</td>\n",
       "      <td>0.000000</td>\n",
       "      <td>1.000000</td>\n",
       "      <td>0.000000</td>\n",
       "      <td>1.000000</td>\n",
       "    </tr>\n",
       "    <tr>\n",
       "      <th>max</th>\n",
       "      <td>9.999820e+14</td>\n",
       "      <td>5.790484e+06</td>\n",
       "      <td>115.000000</td>\n",
       "      <td>1.000000</td>\n",
       "      <td>1.000000</td>\n",
       "      <td>1.000000</td>\n",
       "      <td>1.000000</td>\n",
       "      <td>4.000000</td>\n",
       "      <td>1.000000</td>\n",
       "      <td>179.000000</td>\n",
       "      <td>6.000000</td>\n",
       "      <td>2.000000</td>\n",
       "      <td>1.000000</td>\n",
       "      <td>1.000000</td>\n",
       "      <td>18.000000</td>\n",
       "    </tr>\n",
       "  </tbody>\n",
       "</table>\n",
       "</div>"
      ],
      "text/plain": [
       "          PatientId  AppointmentID            Age    Scholarship  \\\n",
       "count  1.036390e+05   1.036390e+05  103639.000000  103639.000000   \n",
       "mean   1.473079e+14   5.671069e+06      37.013605       0.099104   \n",
       "std    2.557873e+14   7.041359e+04      23.175891       0.298803   \n",
       "min    3.920000e+04   5.030230e+06       0.000000       0.000000   \n",
       "25%    4.175520e+12   5.638462e+06      18.000000       0.000000   \n",
       "50%    3.174220e+13   5.677045e+06      37.000000       0.000000   \n",
       "75%    9.439380e+13   5.718894e+06      55.000000       0.000000   \n",
       "max    9.999820e+14   5.790484e+06     115.000000       1.000000   \n",
       "\n",
       "        Hipertension       Diabetes     Alcoholism        Handcap  \\\n",
       "count  103639.000000  103639.000000  103639.000000  103639.000000   \n",
       "mean        0.197956       0.072280       0.029101       0.022135   \n",
       "std         0.398461       0.258952       0.168091       0.160605   \n",
       "min         0.000000       0.000000       0.000000       0.000000   \n",
       "25%         0.000000       0.000000       0.000000       0.000000   \n",
       "50%         0.000000       0.000000       0.000000       0.000000   \n",
       "75%         0.000000       0.000000       0.000000       0.000000   \n",
       "max         1.000000       1.000000       1.000000       4.000000   \n",
       "\n",
       "        SMS_received           Days          Month        Disease  \\\n",
       "count  103639.000000  103639.000000  103639.000000  103639.000000   \n",
       "mean        0.313801      10.249867       5.157595       0.270236   \n",
       "std         0.464039      15.355699       0.441802       0.561666   \n",
       "min         0.000000       0.000000       4.000000       0.000000   \n",
       "25%         0.000000       0.000000       5.000000       0.000000   \n",
       "50%         0.000000       4.000000       5.000000       0.000000   \n",
       "75%         1.000000      15.000000       5.000000       0.000000   \n",
       "max         1.000000     179.000000       6.000000       2.000000   \n",
       "\n",
       "         New_patient  Missed_Appointments_Yes     Num_Missed  \n",
       "count  103639.000000            103639.000000  103639.000000  \n",
       "mean        0.354780                 0.202221       0.403449  \n",
       "std         0.478449                 0.401658       0.795229  \n",
       "min         0.000000                 0.000000       0.000000  \n",
       "25%         0.000000                 0.000000       0.000000  \n",
       "50%         0.000000                 0.000000       0.000000  \n",
       "75%         1.000000                 0.000000       1.000000  \n",
       "max         1.000000                 1.000000      18.000000  "
      ]
     },
     "execution_count": 22,
     "metadata": {},
     "output_type": "execute_result"
    }
   ],
   "source": [
    "result.describe()"
   ]
  },
  {
   "cell_type": "code",
   "execution_count": 23,
   "metadata": {},
   "outputs": [
    {
     "data": {
      "text/html": [
       "<div>\n",
       "<style scoped>\n",
       "    .dataframe tbody tr th:only-of-type {\n",
       "        vertical-align: middle;\n",
       "    }\n",
       "\n",
       "    .dataframe tbody tr th {\n",
       "        vertical-align: top;\n",
       "    }\n",
       "\n",
       "    .dataframe thead th {\n",
       "        text-align: right;\n",
       "    }\n",
       "</style>\n",
       "<table border=\"1\" class=\"dataframe\">\n",
       "  <thead>\n",
       "    <tr style=\"text-align: right;\">\n",
       "      <th>Gender</th>\n",
       "      <th>F</th>\n",
       "      <th>M</th>\n",
       "    </tr>\n",
       "    <tr>\n",
       "      <th>No-show</th>\n",
       "      <th></th>\n",
       "      <th></th>\n",
       "    </tr>\n",
       "  </thead>\n",
       "  <tbody>\n",
       "    <tr>\n",
       "      <th>No</th>\n",
       "      <td>0.649992</td>\n",
       "      <td>0.350008</td>\n",
       "    </tr>\n",
       "    <tr>\n",
       "      <th>Yes</th>\n",
       "      <td>0.655311</td>\n",
       "      <td>0.344689</td>\n",
       "    </tr>\n",
       "  </tbody>\n",
       "</table>\n",
       "</div>"
      ],
      "text/plain": [
       "Gender          F         M\n",
       "No-show                    \n",
       "No       0.649992  0.350008\n",
       "Yes      0.655311  0.344689"
      ]
     },
     "execution_count": 23,
     "metadata": {},
     "output_type": "execute_result"
    }
   ],
   "source": [
    "# Percentage of Female/Male\n",
    "pd.crosstab(df['No-show'],df['Gender']).apply(lambda r: r/r.sum(), axis=1)"
   ]
  },
  {
   "cell_type": "code",
   "execution_count": 24,
   "metadata": {},
   "outputs": [
    {
     "data": {
      "text/plain": [
       "No-show\n",
       "No     82681\n",
       "Yes    20958\n",
       "dtype: int64"
      ]
     },
     "execution_count": 24,
     "metadata": {},
     "output_type": "execute_result"
    }
   ],
   "source": [
    "df.groupby(by=[\"No-show\"]).size()"
   ]
  },
  {
   "cell_type": "markdown",
   "metadata": {},
   "source": [
    "## DATA ANALYSIS"
   ]
  },
  {
   "cell_type": "markdown",
   "metadata": {},
   "source": [
    "**What is the percentage of No-shows appointment?**\n",
    "As the variable \"No-show\" is misleading, we will rename the variable as \"Missed_Appointments\" for better clarification."
   ]
  },
  {
   "cell_type": "code",
   "execution_count": 25,
   "metadata": {},
   "outputs": [
    {
     "data": {
      "text/html": [
       "<div>\n",
       "<style scoped>\n",
       "    .dataframe tbody tr th:only-of-type {\n",
       "        vertical-align: middle;\n",
       "    }\n",
       "\n",
       "    .dataframe tbody tr th {\n",
       "        vertical-align: top;\n",
       "    }\n",
       "\n",
       "    .dataframe thead th {\n",
       "        text-align: right;\n",
       "    }\n",
       "</style>\n",
       "<table border=\"1\" class=\"dataframe\">\n",
       "  <thead>\n",
       "    <tr style=\"text-align: right;\">\n",
       "      <th></th>\n",
       "      <th>Percentage</th>\n",
       "    </tr>\n",
       "    <tr>\n",
       "      <th>Missed_Appointments</th>\n",
       "      <th></th>\n",
       "    </tr>\n",
       "  </thead>\n",
       "  <tbody>\n",
       "    <tr>\n",
       "      <th>No</th>\n",
       "      <td>0.797779</td>\n",
       "    </tr>\n",
       "    <tr>\n",
       "      <th>Yes</th>\n",
       "      <td>0.202221</td>\n",
       "    </tr>\n",
       "  </tbody>\n",
       "</table>\n",
       "</div>"
      ],
      "text/plain": [
       "                     Percentage\n",
       "Missed_Appointments            \n",
       "No                     0.797779\n",
       "Yes                    0.202221"
      ]
     },
     "execution_count": 25,
     "metadata": {},
     "output_type": "execute_result"
    }
   ],
   "source": [
    "result.rename(columns = {'No-show':'Missed_Appointments'}, inplace = True)\n",
    "\n",
    "pd.DataFrame({'Percentage': result.groupby(('Missed_Appointments')).size() / len(result)})"
   ]
  },
  {
   "cell_type": "markdown",
   "metadata": {},
   "source": [
    "From the Data Descriptive, a total of 103,639 visits (mean age of 37.01 of which around 65% were female) were included. There were 20958 of no-show visits, the overall proportion of no-shows at all outpatients’ clinics was (20.22%). \n",
    "\n",
    "From the above calculation, we could see that the percentage of the missed-appointments is 20%. \n"
   ]
  },
  {
   "cell_type": "markdown",
   "metadata": {},
   "source": [
    "### 1. ANALYSIS BY DATA VISUALIZATION "
   ]
  },
  {
   "cell_type": "markdown",
   "metadata": {},
   "source": [
    "**SO, WHICH FACTORS MAY AFFECT THE MISSING APPOINTMENTS?**\n",
    "\n",
    "Now we will see whether these following variables affect the missed appointments?\n",
    "\n",
    "1. Does gender affect the missed appointments?\n",
    "2. Does the number of disease affect the missed appointments?\n",
    "3. Does the level of alcholism affect the missed appointments?\n",
    "4. Does the level of handicap affect the missed appointments?\n",
    "5. Does the SMS received factor affect the missed appointments?\n",
    "6. Does the age_group affect the missed appointments?\n",
    "7. Does the waiting period affect the missed appointments?\n",
    "8. Does day of the week (Monday-Friday) affect the missed appointments? \n",
    "9. Does the Month of the appointment date affect the missed appointments? \n",
    "10. Does the existing patient tend to miss the appointments more? \n",
    "11. Does the scholarship affect the missed appointments?\n",
    "12. Does the previous number of missed appointments per patient affect the missed appointments?"
   ]
  },
  {
   "cell_type": "code",
   "execution_count": 26,
   "metadata": {},
   "outputs": [
    {
     "data": {
      "image/png": "[encoded data removed]",
      "text/plain": [
       "<Figure size 1440x720 with 12 Axes>"
      ]
     },
     "metadata": {
      "needs_background": "light"
     },
     "output_type": "display_data"
    }
   ],
   "source": [
    "#First, let's look at categorical variables\n",
    "factors = ['Gender','New_patient','Disease', 'Alcoholism', 'Handcap', 'SMS_received', 'Scholarship', 'Month', 'Day_of_Week', 'Waiting_Period', 'age_group','Num_Missed']\n",
    "\n",
    "fig = plt.figure(figsize=(20, 10))\n",
    "for x, y in enumerate(factors):\n",
    "    ax1 = fig.add_subplot(3, 4, x+1)\n",
    "    result.groupby([y, 'Missed_Appointments'])[y].count().unstack('Missed_Appointments').plot(ax=ax1, kind='bar', stacked=True)"
   ]
  },
  {
   "cell_type": "markdown",
   "metadata": {},
   "source": [
    "Among those above chart, we could see that Num_Missed variable (number of missed appointments per patient) seems to have a significant influence over the Missed_Appointments variable. Let's take a more detailed look at the chart:"
   ]
  },
  {
   "cell_type": "markdown",
   "metadata": {},
   "source": [
    "** From the above data visualization, we have the following conclusion: **\n",
    "\n",
    "1. Gender: Female are more likely to miss the hospital appointments than Male. But this maybe due to the fact that more women make appointment than men. \n",
    "2. Diseases: People without any chronic diseases (Hypertension and Diabetes) are more likely to skip the appointments.\n",
    "3. Alcoholism: People with alcoholism are more likely to miss the appointments.\n",
    "4. Handicapped: People without handicapped are more likely to miss the appointments.\n",
    "5. SMS Received: People who receive the SMS are more likely to miss the appointments. This is very interesting as the SMS's purpose is to remind them of the appointments.\n",
    "6. Age group: Young people (under 17 years old and from 25-64 years old) are more likely to miss the appointments.\n",
    "7. Day of the week: People are more likely to miss the appointment if that appointment falls into Monday, Tuesday and Wednesday. \n",
    "8. Waiting Period: People are more like to miss the appointment if those appointments are scheduled within 2 to 14 days. \n",
    "9. Month: People are more like to book appointment as well as miss the appointments in May.\n",
    "10. New Patient: The established patient tends to miss the appointment more than the new one. \n",
    "11. Scholarship: Interestingly, patient with scholarship tends to skip the appointments more. This is a social welfare program of the Government of Brazil, part of the Fome Zero network of federal assistance programs. Bolsa Família provided financial aid to poor Brazilian families. \n",
    "12. Number of missed appointments: People are more likely to miss appointments if they used to do so previously. \n"
   ]
  },
  {
   "cell_type": "code",
   "execution_count": 27,
   "metadata": {
    "collapsed": true
   },
   "outputs": [],
   "source": [
    "#!pip install scikit-learn==0.23.1\n",
    "#!pip uninstall scikit-learn --yes"
   ]
  },
  {
   "cell_type": "markdown",
   "metadata": {},
   "source": [
    "### 2. ANALYSIS BY LOGISTIC REGRESSION"
   ]
  },
  {
   "cell_type": "markdown",
   "metadata": {},
   "source": [
    "*Logistic regression was used to develop a no-show predictive model, which was then used to construct an algorithm to determine the no-show threshold that calculates a predicted show/no-show status.*"
   ]
  },
  {
   "cell_type": "code",
   "execution_count": 28,
   "metadata": {},
   "outputs": [
    {
     "data": {
      "text/html": [
       "<div>\n",
       "<style scoped>\n",
       "    .dataframe tbody tr th:only-of-type {\n",
       "        vertical-align: middle;\n",
       "    }\n",
       "\n",
       "    .dataframe tbody tr th {\n",
       "        vertical-align: top;\n",
       "    }\n",
       "\n",
       "    .dataframe thead th {\n",
       "        text-align: right;\n",
       "    }\n",
       "</style>\n",
       "<table border=\"1\" class=\"dataframe\">\n",
       "  <thead>\n",
       "    <tr style=\"text-align: right;\">\n",
       "      <th></th>\n",
       "      <th>PatientId</th>\n",
       "      <th>AppointmentID</th>\n",
       "      <th>Gender</th>\n",
       "      <th>ScheduledDay</th>\n",
       "      <th>AppointmentDay</th>\n",
       "      <th>Age</th>\n",
       "      <th>Neighbourhood</th>\n",
       "      <th>Scholarship</th>\n",
       "      <th>Hipertension</th>\n",
       "      <th>Diabetes</th>\n",
       "      <th>...</th>\n",
       "      <th>Waiting_Period_2_to_14days</th>\n",
       "      <th>Waiting_Period_15_to_30days</th>\n",
       "      <th>Waiting_Period_31_to_60days</th>\n",
       "      <th>Waiting_Period_61_to_90days</th>\n",
       "      <th>Waiting_Period_over_90days</th>\n",
       "      <th>age_group_17_to_24</th>\n",
       "      <th>age_group_25_to_44</th>\n",
       "      <th>age_group_45_to_64</th>\n",
       "      <th>age_group_65_and_over</th>\n",
       "      <th>Gender_F</th>\n",
       "    </tr>\n",
       "  </thead>\n",
       "  <tbody>\n",
       "    <tr>\n",
       "      <th>0</th>\n",
       "      <td>29872500000000</td>\n",
       "      <td>5642903</td>\n",
       "      <td>F</td>\n",
       "      <td>2016-04-29</td>\n",
       "      <td>2016-04-29</td>\n",
       "      <td>62</td>\n",
       "      <td>JARDIM DA PENHA</td>\n",
       "      <td>0</td>\n",
       "      <td>1</td>\n",
       "      <td>0</td>\n",
       "      <td>...</td>\n",
       "      <td>0</td>\n",
       "      <td>0</td>\n",
       "      <td>0</td>\n",
       "      <td>0</td>\n",
       "      <td>0</td>\n",
       "      <td>0</td>\n",
       "      <td>0</td>\n",
       "      <td>1</td>\n",
       "      <td>0</td>\n",
       "      <td>1</td>\n",
       "    </tr>\n",
       "    <tr>\n",
       "      <th>1</th>\n",
       "      <td>558998000000000</td>\n",
       "      <td>5642503</td>\n",
       "      <td>M</td>\n",
       "      <td>2016-04-29</td>\n",
       "      <td>2016-04-29</td>\n",
       "      <td>56</td>\n",
       "      <td>JARDIM DA PENHA</td>\n",
       "      <td>0</td>\n",
       "      <td>0</td>\n",
       "      <td>0</td>\n",
       "      <td>...</td>\n",
       "      <td>0</td>\n",
       "      <td>0</td>\n",
       "      <td>0</td>\n",
       "      <td>0</td>\n",
       "      <td>0</td>\n",
       "      <td>0</td>\n",
       "      <td>0</td>\n",
       "      <td>1</td>\n",
       "      <td>0</td>\n",
       "      <td>0</td>\n",
       "    </tr>\n",
       "    <tr>\n",
       "      <th>2</th>\n",
       "      <td>4262960000000</td>\n",
       "      <td>5642549</td>\n",
       "      <td>F</td>\n",
       "      <td>2016-04-29</td>\n",
       "      <td>2016-04-29</td>\n",
       "      <td>62</td>\n",
       "      <td>MATA DA PRAIA</td>\n",
       "      <td>0</td>\n",
       "      <td>0</td>\n",
       "      <td>0</td>\n",
       "      <td>...</td>\n",
       "      <td>0</td>\n",
       "      <td>0</td>\n",
       "      <td>0</td>\n",
       "      <td>0</td>\n",
       "      <td>0</td>\n",
       "      <td>0</td>\n",
       "      <td>0</td>\n",
       "      <td>1</td>\n",
       "      <td>0</td>\n",
       "      <td>1</td>\n",
       "    </tr>\n",
       "    <tr>\n",
       "      <th>3</th>\n",
       "      <td>867951000000</td>\n",
       "      <td>5642828</td>\n",
       "      <td>F</td>\n",
       "      <td>2016-04-29</td>\n",
       "      <td>2016-04-29</td>\n",
       "      <td>8</td>\n",
       "      <td>PONTAL DE CAMBURI</td>\n",
       "      <td>0</td>\n",
       "      <td>0</td>\n",
       "      <td>0</td>\n",
       "      <td>...</td>\n",
       "      <td>0</td>\n",
       "      <td>0</td>\n",
       "      <td>0</td>\n",
       "      <td>0</td>\n",
       "      <td>0</td>\n",
       "      <td>0</td>\n",
       "      <td>0</td>\n",
       "      <td>0</td>\n",
       "      <td>0</td>\n",
       "      <td>1</td>\n",
       "    </tr>\n",
       "    <tr>\n",
       "      <th>4</th>\n",
       "      <td>8841190000000</td>\n",
       "      <td>5642494</td>\n",
       "      <td>F</td>\n",
       "      <td>2016-04-29</td>\n",
       "      <td>2016-04-29</td>\n",
       "      <td>56</td>\n",
       "      <td>JARDIM DA PENHA</td>\n",
       "      <td>0</td>\n",
       "      <td>1</td>\n",
       "      <td>1</td>\n",
       "      <td>...</td>\n",
       "      <td>0</td>\n",
       "      <td>0</td>\n",
       "      <td>0</td>\n",
       "      <td>0</td>\n",
       "      <td>0</td>\n",
       "      <td>0</td>\n",
       "      <td>0</td>\n",
       "      <td>1</td>\n",
       "      <td>0</td>\n",
       "      <td>1</td>\n",
       "    </tr>\n",
       "  </tbody>\n",
       "</table>\n",
       "<p>5 rows × 32 columns</p>\n",
       "</div>"
      ],
      "text/plain": [
       "         PatientId  AppointmentID Gender ScheduledDay AppointmentDay  Age  \\\n",
       "0   29872500000000        5642903      F   2016-04-29     2016-04-29   62   \n",
       "1  558998000000000        5642503      M   2016-04-29     2016-04-29   56   \n",
       "2    4262960000000        5642549      F   2016-04-29     2016-04-29   62   \n",
       "3     867951000000        5642828      F   2016-04-29     2016-04-29    8   \n",
       "4    8841190000000        5642494      F   2016-04-29     2016-04-29   56   \n",
       "\n",
       "       Neighbourhood  Scholarship  Hipertension  Diabetes  ...  \\\n",
       "0    JARDIM DA PENHA            0             1         0  ...   \n",
       "1    JARDIM DA PENHA            0             0         0  ...   \n",
       "2      MATA DA PRAIA            0             0         0  ...   \n",
       "3  PONTAL DE CAMBURI            0             0         0  ...   \n",
       "4    JARDIM DA PENHA            0             1         1  ...   \n",
       "\n",
       "   Waiting_Period_2_to_14days  Waiting_Period_15_to_30days  \\\n",
       "0                           0                            0   \n",
       "1                           0                            0   \n",
       "2                           0                            0   \n",
       "3                           0                            0   \n",
       "4                           0                            0   \n",
       "\n",
       "   Waiting_Period_31_to_60days Waiting_Period_61_to_90days  \\\n",
       "0                            0                           0   \n",
       "1                            0                           0   \n",
       "2                            0                           0   \n",
       "3                            0                           0   \n",
       "4                            0                           0   \n",
       "\n",
       "  Waiting_Period_over_90days  age_group_17_to_24  age_group_25_to_44  \\\n",
       "0                          0                   0                   0   \n",
       "1                          0                   0                   0   \n",
       "2                          0                   0                   0   \n",
       "3                          0                   0                   0   \n",
       "4                          0                   0                   0   \n",
       "\n",
       "   age_group_45_to_64  age_group_65_and_over  Gender_F  \n",
       "0                   1                      0         1  \n",
       "1                   1                      0         0  \n",
       "2                   1                      0         1  \n",
       "3                   0                      0         1  \n",
       "4                   1                      0         1  \n",
       "\n",
       "[5 rows x 32 columns]"
      ]
     },
     "execution_count": 28,
     "metadata": {},
     "output_type": "execute_result"
    }
   ],
   "source": [
    "#Convert variables to Binary data for column (Month, Day of the week, Waiting_Period, age_group, Neighborhood):\n",
    "df1 = pd.get_dummies(result, columns=['Month', 'Waiting_Period','age_group'], drop_first=True, prefix_sep='_')\n",
    "# Convert Gender variables to dummy variable (1 if Gender is Female and 0 if Gender is Male)\n",
    "df1['Gender_F'] = df1.Gender.apply(lambda x: 1 if x == \"F\" else 0)\n",
    "df1.head()"
   ]
  },
  {
   "cell_type": "code",
   "execution_count": 29,
   "metadata": {
    "collapsed": true
   },
   "outputs": [],
   "source": [
    "from sklearn import preprocessing\n",
    "from sklearn.datasets import load_iris\n",
    "from sklearn.linear_model import LogisticRegression\n",
    "from sklearn import metrics\n",
    "from sklearn.metrics import confusion_matrix, classification_report\n",
    "from sklearn.metrics import accuracy_score, f1_score, recall_score"
   ]
  },
  {
   "cell_type": "markdown",
   "metadata": {},
   "source": [
    "With the data visualization, we have remove some of the non-related variables from independent variables such as PatientID, AppointID, Schedule Day, Appointment Day, Age, Neighborhood. We include other variables in the model, as from our data visualization, we could see that there are correlations between those variables and the Missed_Appointment Variable. "
   ]
  },
  {
   "cell_type": "code",
   "execution_count": 30,
   "metadata": {},
   "outputs": [
    {
     "data": {
      "text/plain": [
       "array(['Age', 'Scholarship', 'Hipertension', 'Diabetes', 'Alcoholism',\n",
       "       'Handcap', 'SMS_received', 'Disease', 'New_patient',\n",
       "       'Missed_Appointments_Yes', 'Num_Missed', 'Month_5', 'Month_6',\n",
       "       'Waiting_Period_2_to_14days', 'Waiting_Period_15_to_30days',\n",
       "       'Waiting_Period_31_to_60days', 'Waiting_Period_61_to_90days',\n",
       "       'Waiting_Period_over_90days', 'age_group_17_to_24',\n",
       "       'age_group_25_to_44', 'age_group_45_to_64',\n",
       "       'age_group_65_and_over', 'Gender_F'], dtype=object)"
      ]
     },
     "execution_count": 30,
     "metadata": {},
     "output_type": "execute_result"
    }
   ],
   "source": [
    "#Create a matrix of independent variable\n",
    "df1_c =  df1.drop(['PatientId', 'AppointmentID', 'ScheduledDay','Days','Day_of_Week', 'AppointmentDay', 'Gender', 'Neighbourhood', 'Missed_Appointments'], axis=1)\n",
    "df1_c.columns.values"
   ]
  },
  {
   "cell_type": "code",
   "execution_count": 31,
   "metadata": {},
   "outputs": [
    {
     "data": {
      "text/html": [
       "<div>\n",
       "<style scoped>\n",
       "    .dataframe tbody tr th:only-of-type {\n",
       "        vertical-align: middle;\n",
       "    }\n",
       "\n",
       "    .dataframe tbody tr th {\n",
       "        vertical-align: top;\n",
       "    }\n",
       "\n",
       "    .dataframe thead th {\n",
       "        text-align: right;\n",
       "    }\n",
       "</style>\n",
       "<table border=\"1\" class=\"dataframe\">\n",
       "  <thead>\n",
       "    <tr style=\"text-align: right;\">\n",
       "      <th></th>\n",
       "      <th>Scholarship</th>\n",
       "      <th>Hipertension</th>\n",
       "      <th>Diabetes</th>\n",
       "      <th>Alcoholism</th>\n",
       "      <th>Handcap</th>\n",
       "      <th>SMS_received</th>\n",
       "      <th>New_patient</th>\n",
       "      <th>Num_Missed</th>\n",
       "      <th>Month_5</th>\n",
       "      <th>Month_6</th>\n",
       "      <th>Waiting_Period_2_to_14days</th>\n",
       "      <th>Waiting_Period_15_to_30days</th>\n",
       "      <th>Waiting_Period_31_to_60days</th>\n",
       "      <th>Waiting_Period_61_to_90days</th>\n",
       "      <th>Waiting_Period_over_90days</th>\n",
       "      <th>age_group_17_to_24</th>\n",
       "      <th>age_group_25_to_44</th>\n",
       "      <th>age_group_45_to_64</th>\n",
       "      <th>age_group_65_and_over</th>\n",
       "      <th>Gender_F</th>\n",
       "    </tr>\n",
       "  </thead>\n",
       "  <tbody>\n",
       "    <tr>\n",
       "      <th>0</th>\n",
       "      <td>0</td>\n",
       "      <td>1</td>\n",
       "      <td>0</td>\n",
       "      <td>0</td>\n",
       "      <td>0</td>\n",
       "      <td>0</td>\n",
       "      <td>0</td>\n",
       "      <td>0</td>\n",
       "      <td>0</td>\n",
       "      <td>0</td>\n",
       "      <td>0</td>\n",
       "      <td>0</td>\n",
       "      <td>0</td>\n",
       "      <td>0</td>\n",
       "      <td>0</td>\n",
       "      <td>0</td>\n",
       "      <td>0</td>\n",
       "      <td>1</td>\n",
       "      <td>0</td>\n",
       "      <td>1</td>\n",
       "    </tr>\n",
       "    <tr>\n",
       "      <th>1</th>\n",
       "      <td>0</td>\n",
       "      <td>0</td>\n",
       "      <td>0</td>\n",
       "      <td>0</td>\n",
       "      <td>0</td>\n",
       "      <td>0</td>\n",
       "      <td>0</td>\n",
       "      <td>0</td>\n",
       "      <td>0</td>\n",
       "      <td>0</td>\n",
       "      <td>0</td>\n",
       "      <td>0</td>\n",
       "      <td>0</td>\n",
       "      <td>0</td>\n",
       "      <td>0</td>\n",
       "      <td>0</td>\n",
       "      <td>0</td>\n",
       "      <td>1</td>\n",
       "      <td>0</td>\n",
       "      <td>0</td>\n",
       "    </tr>\n",
       "    <tr>\n",
       "      <th>2</th>\n",
       "      <td>0</td>\n",
       "      <td>0</td>\n",
       "      <td>0</td>\n",
       "      <td>0</td>\n",
       "      <td>0</td>\n",
       "      <td>0</td>\n",
       "      <td>0</td>\n",
       "      <td>0</td>\n",
       "      <td>0</td>\n",
       "      <td>0</td>\n",
       "      <td>0</td>\n",
       "      <td>0</td>\n",
       "      <td>0</td>\n",
       "      <td>0</td>\n",
       "      <td>0</td>\n",
       "      <td>0</td>\n",
       "      <td>0</td>\n",
       "      <td>1</td>\n",
       "      <td>0</td>\n",
       "      <td>1</td>\n",
       "    </tr>\n",
       "    <tr>\n",
       "      <th>3</th>\n",
       "      <td>0</td>\n",
       "      <td>0</td>\n",
       "      <td>0</td>\n",
       "      <td>0</td>\n",
       "      <td>0</td>\n",
       "      <td>0</td>\n",
       "      <td>0</td>\n",
       "      <td>0</td>\n",
       "      <td>0</td>\n",
       "      <td>0</td>\n",
       "      <td>0</td>\n",
       "      <td>0</td>\n",
       "      <td>0</td>\n",
       "      <td>0</td>\n",
       "      <td>0</td>\n",
       "      <td>0</td>\n",
       "      <td>0</td>\n",
       "      <td>0</td>\n",
       "      <td>0</td>\n",
       "      <td>1</td>\n",
       "    </tr>\n",
       "    <tr>\n",
       "      <th>4</th>\n",
       "      <td>0</td>\n",
       "      <td>1</td>\n",
       "      <td>1</td>\n",
       "      <td>0</td>\n",
       "      <td>0</td>\n",
       "      <td>0</td>\n",
       "      <td>1</td>\n",
       "      <td>0</td>\n",
       "      <td>0</td>\n",
       "      <td>0</td>\n",
       "      <td>0</td>\n",
       "      <td>0</td>\n",
       "      <td>0</td>\n",
       "      <td>0</td>\n",
       "      <td>0</td>\n",
       "      <td>0</td>\n",
       "      <td>0</td>\n",
       "      <td>1</td>\n",
       "      <td>0</td>\n",
       "      <td>1</td>\n",
       "    </tr>\n",
       "    <tr>\n",
       "      <th>...</th>\n",
       "      <td>...</td>\n",
       "      <td>...</td>\n",
       "      <td>...</td>\n",
       "      <td>...</td>\n",
       "      <td>...</td>\n",
       "      <td>...</td>\n",
       "      <td>...</td>\n",
       "      <td>...</td>\n",
       "      <td>...</td>\n",
       "      <td>...</td>\n",
       "      <td>...</td>\n",
       "      <td>...</td>\n",
       "      <td>...</td>\n",
       "      <td>...</td>\n",
       "      <td>...</td>\n",
       "      <td>...</td>\n",
       "      <td>...</td>\n",
       "      <td>...</td>\n",
       "      <td>...</td>\n",
       "      <td>...</td>\n",
       "    </tr>\n",
       "    <tr>\n",
       "      <th>103634</th>\n",
       "      <td>0</td>\n",
       "      <td>1</td>\n",
       "      <td>0</td>\n",
       "      <td>0</td>\n",
       "      <td>0</td>\n",
       "      <td>1</td>\n",
       "      <td>0</td>\n",
       "      <td>2</td>\n",
       "      <td>0</td>\n",
       "      <td>1</td>\n",
       "      <td>0</td>\n",
       "      <td>1</td>\n",
       "      <td>0</td>\n",
       "      <td>0</td>\n",
       "      <td>0</td>\n",
       "      <td>0</td>\n",
       "      <td>0</td>\n",
       "      <td>1</td>\n",
       "      <td>0</td>\n",
       "      <td>0</td>\n",
       "    </tr>\n",
       "    <tr>\n",
       "      <th>103635</th>\n",
       "      <td>0</td>\n",
       "      <td>0</td>\n",
       "      <td>0</td>\n",
       "      <td>0</td>\n",
       "      <td>0</td>\n",
       "      <td>0</td>\n",
       "      <td>0</td>\n",
       "      <td>0</td>\n",
       "      <td>0</td>\n",
       "      <td>1</td>\n",
       "      <td>0</td>\n",
       "      <td>0</td>\n",
       "      <td>0</td>\n",
       "      <td>0</td>\n",
       "      <td>0</td>\n",
       "      <td>0</td>\n",
       "      <td>1</td>\n",
       "      <td>0</td>\n",
       "      <td>0</td>\n",
       "      <td>0</td>\n",
       "    </tr>\n",
       "    <tr>\n",
       "      <th>103636</th>\n",
       "      <td>1</td>\n",
       "      <td>1</td>\n",
       "      <td>1</td>\n",
       "      <td>0</td>\n",
       "      <td>0</td>\n",
       "      <td>0</td>\n",
       "      <td>0</td>\n",
       "      <td>2</td>\n",
       "      <td>0</td>\n",
       "      <td>1</td>\n",
       "      <td>0</td>\n",
       "      <td>1</td>\n",
       "      <td>0</td>\n",
       "      <td>0</td>\n",
       "      <td>0</td>\n",
       "      <td>0</td>\n",
       "      <td>0</td>\n",
       "      <td>1</td>\n",
       "      <td>0</td>\n",
       "      <td>1</td>\n",
       "    </tr>\n",
       "    <tr>\n",
       "      <th>103637</th>\n",
       "      <td>0</td>\n",
       "      <td>0</td>\n",
       "      <td>0</td>\n",
       "      <td>0</td>\n",
       "      <td>0</td>\n",
       "      <td>0</td>\n",
       "      <td>0</td>\n",
       "      <td>0</td>\n",
       "      <td>0</td>\n",
       "      <td>1</td>\n",
       "      <td>0</td>\n",
       "      <td>0</td>\n",
       "      <td>0</td>\n",
       "      <td>0</td>\n",
       "      <td>0</td>\n",
       "      <td>0</td>\n",
       "      <td>0</td>\n",
       "      <td>0</td>\n",
       "      <td>0</td>\n",
       "      <td>1</td>\n",
       "    </tr>\n",
       "    <tr>\n",
       "      <th>103638</th>\n",
       "      <td>0</td>\n",
       "      <td>0</td>\n",
       "      <td>1</td>\n",
       "      <td>0</td>\n",
       "      <td>0</td>\n",
       "      <td>0</td>\n",
       "      <td>0</td>\n",
       "      <td>0</td>\n",
       "      <td>0</td>\n",
       "      <td>1</td>\n",
       "      <td>0</td>\n",
       "      <td>0</td>\n",
       "      <td>0</td>\n",
       "      <td>0</td>\n",
       "      <td>0</td>\n",
       "      <td>0</td>\n",
       "      <td>1</td>\n",
       "      <td>0</td>\n",
       "      <td>0</td>\n",
       "      <td>1</td>\n",
       "    </tr>\n",
       "  </tbody>\n",
       "</table>\n",
       "<p>103639 rows × 20 columns</p>\n",
       "</div>"
      ],
      "text/plain": [
       "        Scholarship  Hipertension  Diabetes  Alcoholism  Handcap  \\\n",
       "0                 0             1         0           0        0   \n",
       "1                 0             0         0           0        0   \n",
       "2                 0             0         0           0        0   \n",
       "3                 0             0         0           0        0   \n",
       "4                 0             1         1           0        0   \n",
       "...             ...           ...       ...         ...      ...   \n",
       "103634            0             1         0           0        0   \n",
       "103635            0             0         0           0        0   \n",
       "103636            1             1         1           0        0   \n",
       "103637            0             0         0           0        0   \n",
       "103638            0             0         1           0        0   \n",
       "\n",
       "        SMS_received  New_patient  Num_Missed  Month_5  Month_6  \\\n",
       "0                  0            0           0        0        0   \n",
       "1                  0            0           0        0        0   \n",
       "2                  0            0           0        0        0   \n",
       "3                  0            0           0        0        0   \n",
       "4                  0            1           0        0        0   \n",
       "...              ...          ...         ...      ...      ...   \n",
       "103634             1            0           2        0        1   \n",
       "103635             0            0           0        0        1   \n",
       "103636             0            0           2        0        1   \n",
       "103637             0            0           0        0        1   \n",
       "103638             0            0           0        0        1   \n",
       "\n",
       "        Waiting_Period_2_to_14days  Waiting_Period_15_to_30days  \\\n",
       "0                                0                            0   \n",
       "1                                0                            0   \n",
       "2                                0                            0   \n",
       "3                                0                            0   \n",
       "4                                0                            0   \n",
       "...                            ...                          ...   \n",
       "103634                           0                            1   \n",
       "103635                           0                            0   \n",
       "103636                           0                            1   \n",
       "103637                           0                            0   \n",
       "103638                           0                            0   \n",
       "\n",
       "        Waiting_Period_31_to_60days  Waiting_Period_61_to_90days  \\\n",
       "0                                 0                            0   \n",
       "1                                 0                            0   \n",
       "2                                 0                            0   \n",
       "3                                 0                            0   \n",
       "4                                 0                            0   \n",
       "...                             ...                          ...   \n",
       "103634                            0                            0   \n",
       "103635                            0                            0   \n",
       "103636                            0                            0   \n",
       "103637                            0                            0   \n",
       "103638                            0                            0   \n",
       "\n",
       "        Waiting_Period_over_90days  age_group_17_to_24  age_group_25_to_44  \\\n",
       "0                                0                   0                   0   \n",
       "1                                0                   0                   0   \n",
       "2                                0                   0                   0   \n",
       "3                                0                   0                   0   \n",
       "4                                0                   0                   0   \n",
       "...                            ...                 ...                 ...   \n",
       "103634                           0                   0                   0   \n",
       "103635                           0                   0                   1   \n",
       "103636                           0                   0                   0   \n",
       "103637                           0                   0                   0   \n",
       "103638                           0                   0                   1   \n",
       "\n",
       "        age_group_45_to_64  age_group_65_and_over  Gender_F  \n",
       "0                        1                      0         1  \n",
       "1                        1                      0         0  \n",
       "2                        1                      0         1  \n",
       "3                        0                      0         1  \n",
       "4                        1                      0         1  \n",
       "...                    ...                    ...       ...  \n",
       "103634                   1                      0         0  \n",
       "103635                   0                      0         0  \n",
       "103636                   1                      0         1  \n",
       "103637                   0                      0         1  \n",
       "103638                   0                      0         1  \n",
       "\n",
       "[103639 rows x 20 columns]"
      ]
     },
     "execution_count": 31,
     "metadata": {},
     "output_type": "execute_result"
    }
   ],
   "source": [
    "# Independent Variables\n",
    "X = df1_c.drop(['Missed_Appointments_Yes','Disease','Age'], axis = 1)\n",
    "\n",
    "#Dependent Variables\n",
    "y=df1_c['Missed_Appointments_Yes']\n",
    "\n",
    "X"
   ]
  },
  {
   "cell_type": "markdown",
   "metadata": {},
   "source": [
    "### FEATURE SELECTION\n"
   ]
  },
  {
   "cell_type": "code",
   "execution_count": 32,
   "metadata": {},
   "outputs": [
    {
     "name": "stdout",
     "output_type": "stream",
     "text": [
      "Features sorted by rank:\n",
      "[(1, 'Month_5'), (1, 'Month_6'), (1, 'New_patient'), (1, 'Num_Missed'), (1, 'Waiting_Period_15_to_30days'), (1, 'Waiting_Period_2_to_14days'), (1, 'Waiting_Period_31_to_60days'), (1, 'Waiting_Period_61_to_90days'), (1, 'Waiting_Period_over_90days'), (1, 'age_group_65_and_over'), (2, 'age_group_45_to_64'), (3, 'Alcoholism'), (4, 'age_group_25_to_44'), (5, 'Diabetes'), (6, 'Handcap'), (7, 'Gender_F'), (8, 'age_group_17_to_24'), (9, 'SMS_received'), (10, 'Hipertension'), (11, 'Scholarship')]\n"
     ]
    }
   ],
   "source": [
    "from sklearn.feature_selection import RFE\n",
    "names = X.columns.values\n",
    "logreg = LogisticRegression(solver='lbfgs',max_iter=10000)\n",
    "rfe=RFE(logreg)\n",
    "rfe=rfe.fit(X, y)\n",
    "print(\"Features sorted by rank:\")\n",
    "print(sorted(zip(map(lambda x: round(x,4), rfe.ranking_),names)))"
   ]
  },
  {
   "cell_type": "markdown",
   "metadata": {},
   "source": [
    "### TRY A LOT OF MODELS TO FIND THE BEST ONE "
   ]
  },
  {
   "cell_type": "code",
   "execution_count": 33,
   "metadata": {
    "collapsed": true
   },
   "outputs": [],
   "source": [
    "#Try only the top feature:\n",
    "X1 = df1[['Num_Missed','New_patient','Days','Age', 'Handcap','Scholarship','Alcoholism','Disease','Gender_F','Month_5','Month_6','SMS_received']]"
   ]
  },
  {
   "cell_type": "code",
   "execution_count": 34,
   "metadata": {},
   "outputs": [
    {
     "name": "stdout",
     "output_type": "stream",
     "text": [
      "LR:\t0.895 (+/- 0.005)\n",
      "LDA:\t0.862 (+/- 0.007)\n",
      "NB:\t0.838 (+/- 0.006)\n",
      "KNN:\t0.895 (+/- 0.005)\n"
     ]
    }
   ],
   "source": [
    "from sklearn.neighbors import KNeighborsClassifier\n",
    "from sklearn.discriminant_analysis import LinearDiscriminantAnalysis\n",
    "#from sklearn.tree import DecisionTreeClassifier\n",
    "from sklearn.naive_bayes import GaussianNB\n",
    "from sklearn.svm import SVC\n",
    "from sklearn.model_selection import KFold\n",
    "from sklearn.model_selection import cross_val_score\n",
    "from sklearn import model_selection\n",
    "\n",
    "models = []\n",
    "names = []\n",
    "scoring = 'accuracy'\n",
    "seed = 7\n",
    "models.append(('LR', LogisticRegression(solver='lbfgs',max_iter=10000)))\n",
    "models.append(('LDA', LinearDiscriminantAnalysis()))\n",
    "#models.append(('CART', DecisionTreeClassifier()))\n",
    "models.append(('NB', GaussianNB()))\n",
    "models.append(('KNN', KNeighborsClassifier()))\n",
    "\n",
    "def calculate_accuracy(X, y):\n",
    "    results = []\n",
    "    for name, model in models:\n",
    "        kfold = model_selection.KFold(n_splits=10, shuffle=True, random_state=seed)\n",
    "        cv_results = model_selection.cross_val_score(model, X, y, cv=kfold, scoring=scoring)\n",
    "        results.append(cv_results)\n",
    "        names.append(name)\n",
    "        msg = \"%s:\\t%0.3f (+/- %0.3f)\" % (name, cv_results.mean(), cv_results.std() * 2)\n",
    "        print(msg)\n",
    "    return results\n",
    "all_features = calculate_accuracy(X1,y)"
   ]
  },
  {
   "cell_type": "markdown",
   "metadata": {},
   "source": [
    "**IMPLEMENT THE LOGISTIC REGRESSION MODEL**"
   ]
  },
  {
   "cell_type": "markdown",
   "metadata": {},
   "source": [
    "From the above result, I decided to choose Logistic Regression Model to predict the no-show appointments"
   ]
  },
  {
   "cell_type": "code",
   "execution_count": 35,
   "metadata": {},
   "outputs": [
    {
     "name": "stderr",
     "output_type": "stream",
     "text": [
      "/usr/local/lib/python3.8/site-packages/statsmodels/tsa/base/tsa_model.py:7: FutureWarning: pandas.Int64Index is deprecated and will be removed from pandas in a future version. Use pandas.Index with the appropriate dtype instead.\n",
      "  from pandas import (to_datetime, Int64Index, DatetimeIndex, Period,\n",
      "/usr/local/lib/python3.8/site-packages/statsmodels/tsa/base/tsa_model.py:7: FutureWarning: pandas.Float64Index is deprecated and will be removed from pandas in a future version. Use pandas.Index with the appropriate dtype instead.\n",
      "  from pandas import (to_datetime, Int64Index, DatetimeIndex, Period,\n"
     ]
    },
    {
     "name": "stdout",
     "output_type": "stream",
     "text": [
      "Optimization terminated successfully.\n",
      "         Current function value: 0.292964\n",
      "         Iterations 7\n",
      "                             Results: Logit\n",
      "========================================================================\n",
      "Model:              Logit                   Pseudo R-squared: 0.418     \n",
      "Dependent Variable: Missed_Appointments_Yes AIC:              60748.9767\n",
      "Date:               2022-05-12 17:15        BIC:              60863.5607\n",
      "No. Observations:   103639                  Log-Likelihood:   -30362.   \n",
      "Df Model:           11                      LL-Null:          -52179.   \n",
      "Df Residuals:       103627                  LLR p-value:      0.0000    \n",
      "Converged:          1.0000                  Scale:            1.0000    \n",
      "No. Iterations:     7.0000                                              \n",
      "--------------------------------------------------------------------------\n",
      "                Coef.    Std.Err.       z       P>|z|     [0.025    0.975]\n",
      "--------------------------------------------------------------------------\n",
      "Num_Missed      3.0294     0.0213    142.3796   0.0000    2.9877    3.0711\n",
      "New_patient     0.7590     0.0227     33.3743   0.0000    0.7144    0.8036\n",
      "Days            0.0207     0.0007     31.7861   0.0000    0.0194    0.0220\n",
      "Age            -0.0162     0.0005    -30.9339   0.0000   -0.0172   -0.0151\n",
      "Handcap        -0.2635     0.0713     -3.6924   0.0002   -0.4033   -0.1236\n",
      "Scholarship    -0.1254     0.0349     -3.5948   0.0003   -0.1938   -0.0570\n",
      "Alcoholism      0.0287     0.0648      0.4424   0.6582   -0.0983    0.1556\n",
      "Disease         0.1356     0.0225      6.0169   0.0000    0.0914    0.1797\n",
      "Gender_F       -0.2464     0.0215    -11.4715   0.0000   -0.2885   -0.2043\n",
      "Month_5        -2.9666     0.0276   -107.6715   0.0000   -3.0206   -2.9126\n",
      "Month_6        -3.6912     0.0388    -95.0538   0.0000   -3.7674   -3.6151\n",
      "SMS_received    0.3047     0.0229     13.3170   0.0000    0.2599    0.3496\n",
      "========================================================================\n",
      "\n"
     ]
    }
   ],
   "source": [
    "import statsmodels.api as sm\n",
    "logit_model=sm.Logit(y,X1)\n",
    "result=logit_model.fit()\n",
    "print(result.summary2())"
   ]
  },
  {
   "cell_type": "code",
   "execution_count": 36,
   "metadata": {
    "collapsed": true
   },
   "outputs": [],
   "source": [
    "#We can normalize the dataset using the following function. \n",
    "#However, in this case, I do not normalize the dataset as we don't need to normalize dataset in logistic regression.\n",
    "# CODE FOR NORMALIZE DATASET\n",
    "#from sklearn import preprocessing\n",
    "#X = preprocessing.StandardScaler().fit(X).transform(X)\n",
    "#X[:1]"
   ]
  },
  {
   "cell_type": "markdown",
   "metadata": {},
   "source": [
    "**Train/Test dataset**\n",
    "\n",
    "We split our dataset into train and test set:"
   ]
  },
  {
   "cell_type": "code",
   "execution_count": 37,
   "metadata": {},
   "outputs": [
    {
     "name": "stdout",
     "output_type": "stream",
     "text": [
      "Train set: (69438, 12) (69438,)\n",
      "Test set: (34201, 12) (34201,)\n"
     ]
    }
   ],
   "source": [
    "from sklearn.model_selection import train_test_split\n",
    "X_train, X_test, y_train, y_test = train_test_split( X1, y, test_size=0.33, random_state=0)\n",
    "print ('Train set:', X_train.shape,  y_train.shape)\n",
    "print ('Test set:', X_test.shape,  y_test.shape)"
   ]
  },
  {
   "cell_type": "markdown",
   "metadata": {},
   "source": [
    "Let's build our model using LogisticRegression from the Scikit-learn package. "
   ]
  },
  {
   "cell_type": "code",
   "execution_count": 38,
   "metadata": {},
   "outputs": [
    {
     "name": "stdout",
     "output_type": "stream",
     "text": [
      "intercept  -2.561845906569198\n",
      "Accuracy score:  0.8897400660799392\n"
     ]
    }
   ],
   "source": [
    "LR = LogisticRegression(C=0.01, solver='liblinear').fit(X_train,y_train)\n",
    "\n",
    "y_pred_class = LR.predict(X_test)\n",
    "\n",
    "print('intercept ', LR.intercept_[0])\n",
    "print('Accuracy score: ',metrics.accuracy_score(y_test, y_pred_class))"
   ]
  },
  {
   "cell_type": "code",
   "execution_count": 39,
   "metadata": {},
   "outputs": [
    {
     "name": "stdout",
     "output_type": "stream",
     "text": [
      "              precision    recall  f1-score   support\n",
      "\n",
      "           0       0.90      0.96      0.93     27301\n",
      "           1       0.81      0.59      0.68      6900\n",
      "\n",
      "    accuracy                           0.89     34201\n",
      "   macro avg       0.86      0.78      0.81     34201\n",
      "weighted avg       0.88      0.89      0.88     34201\n",
      "\n"
     ]
    }
   ],
   "source": [
    "print (classification_report(y_test, y_pred_class))"
   ]
  },
  {
   "cell_type": "markdown",
   "metadata": {},
   "source": [
    "Based on above classification report, we can can see the precision and recall of each label:\n",
    "\n",
    " - Precision is a measure of the accuracy provided that a class label has been predicted. \n",
    "\n",
    "                       Precision = TP / (TP + FP)\n",
    "\n",
    " - Recall is the true positive rate. \n",
    " \n",
    "                       Recall =  TP / (TP + FN)\n",
    "\n",
    "\n",
    " - F1 score: the harmonic average of the precision and recall, where an F1 score reaches its best value at 1 (perfect precision and recall) and worst at 0. \n",
    " \n",
    "The accuracy for this classifier is the average of the F1-score for both labels, which is 0.69 in our case."
   ]
  },
  {
   "cell_type": "markdown",
   "metadata": {},
   "source": [
    "**predict_proba** returns estimates for all classes, ordered by the label of classes. So, the first column is the probability of class 0, P(Y=0|X), and second column is probability of class 1, P(Y=1|X):"
   ]
  },
  {
   "cell_type": "code",
   "execution_count": 40,
   "metadata": {},
   "outputs": [
    {
     "data": {
      "text/plain": [
       "array([[0.95256987, 0.04743013],\n",
       "       [0.5422766 , 0.4577234 ],\n",
       "       [0.9685136 , 0.0314864 ],\n",
       "       ...,\n",
       "       [0.95606381, 0.04393619],\n",
       "       [0.94333618, 0.05666382],\n",
       "       [0.94754286, 0.05245714]])"
      ]
     },
     "execution_count": 40,
     "metadata": {},
     "output_type": "execute_result"
    }
   ],
   "source": [
    "yhat_prob = LR.predict_proba(X_test)\n",
    "yhat_prob"
   ]
  },
  {
   "cell_type": "markdown",
   "metadata": {
    "collapsed": true
   },
   "source": [
    "** From Logistic Regression model's results, we only focus on the coefficients which are statistically significant (associated with a p-value <0.05), so our model suggests the following influence over the missed appointments:** \n",
    "\n",
    " \n",
    "1. Age: Age is negatively correlated with the Missed Appointments, which means that the younger patients tend to miss the appointment more than old patients. \n",
    "2. Scholarship: Patient with scholarship tends to miss the appointments more.\n",
    "3. Chronic illness: Interestingly, patients with chronic illnesses such as Hypertension and Diabetes tend to miss the appointments more.\n",
    "4. Handicapped: People without handicapped tend to miss the appointments more. \n",
    "5. SMS Received: People who receive the SMS are more likely to miss the appointments. \n",
    "6. Days: People tends to miss the appointments more if the duration from the scheduled date and the appointment date is longer. \n",
    "7. Gender: Male are more likely to miss the appointment than female. This maybe because female are more health-concerned than male. \n",
    "8. New Patient: Interestingly, the new patient tends to miss the appointment more than the established one.\n",
    "9. Number of missed appointments: People are more likely to miss appointments if they used to do so previously.\n",
    "\n",
    "\n",
    "Since the accuracy score is 0.89 and F1 score is 0.68, this is a good model to predict whether the patient shows up for the medical appointments or not.\n"
   ]
  },
  {
   "cell_type": "markdown",
   "metadata": {},
   "source": [
    "**CONCLUSION AND LIMITATIONS**\n",
    "\n",
    "\n",
    "In this study, we attempt to identify the key factors to predict patients who will not attend the appointment (no shows) using regular available hospital data. The main factors of no-show with the reasons such as whether they are new patients or established patients, whether they receive scholarships, whether they are old or have chronic illness, whether they missed the previous appointments, or whether the waiting period is long, etc. Other important factor for no-show is the distance, which we did not study in this case. If the distance from the patient's house to the medical office is long, it is more likely that the patient will miss the hospital appointment. Another limitation is that the model should include such factors as health insurance (patient has insurance or not) to make the model more accurate. "
   ]
  },
  {
   "cell_type": "code",
   "execution_count": null,
   "metadata": {
    "collapsed": true
   },
   "outputs": [],
   "source": []
  }
 ],
 "metadata": {
  "kernelspec": {
   "display_name": "Python 3.8",
   "language": "python",
   "name": "python38"
  },
  "language_info": {
   "codemirror_mode": {
    "name": "ipython",
    "version": 3
   },
   "file_extension": ".py",
   "mimetype": "text/x-python",
   "name": "python",
   "nbconvert_exporter": "python",
   "pygments_lexer": "ipython3",
   "version": "3.8.7"
  }
 },
 "nbformat": 4,
 "nbformat_minor": 2
}
